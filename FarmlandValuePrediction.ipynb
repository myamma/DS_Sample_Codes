{
 "cells": [
  {
   "cell_type": "markdown",
   "metadata": {},
   "source": [
    "\n",
    "# Task 1 - Load parcel; Extract scalar attribute; Plot histogram"
   ]
  },
  {
   "cell_type": "code",
   "execution_count": 2,
   "metadata": {},
   "outputs": [],
   "source": [
    "import shapefile\n",
    "import pandas as pd\n",
    "import matplotlib.pyplot as plt\n",
    "import numpy as np\n",
    "from shapely.geometry import Polygon\n",
    "import seaborn as sns\n",
    "from sklearn.ensemble import RandomForestRegressor\n",
    "from sklearn.model_selection import train_test_split\n",
    "import rasterio\n"
   ]
  },
  {
   "cell_type": "code",
   "execution_count": 3,
   "metadata": {},
   "outputs": [],
   "source": [
    "sf = shapefile.Reader('parcels_exam.shp')"
   ]
  },
  {
   "cell_type": "code",
   "execution_count": 4,
   "metadata": {},
   "outputs": [],
   "source": [
    "#grab the shapefile's field names (omit the first psuedo field)\n",
    "fields = [x[0] for x in sf.fields][1:]\n",
    "records = sf.records()\n",
    "shps = [s.points for s in sf.shapes()]\n",
    "\n",
    "#write the records into a dataframe\n",
    "sh_df = pd.DataFrame(columns=fields, data=records)\n",
    "\n",
    "#add the coordinate data to a column called \"coords\"\n",
    "sh_df = sh_df.assign(coords=shps)"
   ]
  },
  {
   "cell_type": "code",
   "execution_count": 5,
   "metadata": {},
   "outputs": [
    {
     "data": {
      "text/html": [
       "<div>\n",
       "<style scoped>\n",
       "    .dataframe tbody tr th:only-of-type {\n",
       "        vertical-align: middle;\n",
       "    }\n",
       "\n",
       "    .dataframe tbody tr th {\n",
       "        vertical-align: top;\n",
       "    }\n",
       "\n",
       "    .dataframe thead th {\n",
       "        text-align: right;\n",
       "    }\n",
       "</style>\n",
       "<table border=\"1\" class=\"dataframe\">\n",
       "  <thead>\n",
       "    <tr style=\"text-align: right;\">\n",
       "      <th></th>\n",
       "      <th>_id</th>\n",
       "      <th>area</th>\n",
       "      <th>water</th>\n",
       "      <th>ponding</th>\n",
       "      <th>organic</th>\n",
       "      <th>slope</th>\n",
       "      <th>gdd</th>\n",
       "      <th>road</th>\n",
       "      <th>tot_price</th>\n",
       "      <th>coords</th>\n",
       "    </tr>\n",
       "  </thead>\n",
       "  <tbody>\n",
       "    <tr>\n",
       "      <th>0</th>\n",
       "      <td>0</td>\n",
       "      <td>212202.777883</td>\n",
       "      <td>0.470132</td>\n",
       "      <td>0.716075</td>\n",
       "      <td>0.287991</td>\n",
       "      <td>0.383462</td>\n",
       "      <td>0.749170</td>\n",
       "      <td>0.878452</td>\n",
       "      <td>2.096351e+07</td>\n",
       "      <td>[(-2126055.914236194, 1782007.052652219), (-21...</td>\n",
       "    </tr>\n",
       "    <tr>\n",
       "      <th>1</th>\n",
       "      <td>1</td>\n",
       "      <td>115054.634691</td>\n",
       "      <td>0.311945</td>\n",
       "      <td>0.398221</td>\n",
       "      <td>0.209844</td>\n",
       "      <td>0.186193</td>\n",
       "      <td>0.944372</td>\n",
       "      <td>0.739551</td>\n",
       "      <td>6.928590e+06</td>\n",
       "      <td>[(-2125540.6725971815, 1742579.3279602642), (-...</td>\n",
       "    </tr>\n",
       "    <tr>\n",
       "      <th>2</th>\n",
       "      <td>2</td>\n",
       "      <td>308655.040738</td>\n",
       "      <td>0.555649</td>\n",
       "      <td>0.009240</td>\n",
       "      <td>0.833038</td>\n",
       "      <td>0.984329</td>\n",
       "      <td>0.703495</td>\n",
       "      <td>0.181631</td>\n",
       "      <td>3.277608e+07</td>\n",
       "      <td>[(-2091681.9641146532, 1748159.6261059537), (-...</td>\n",
       "    </tr>\n",
       "    <tr>\n",
       "      <th>3</th>\n",
       "      <td>3</td>\n",
       "      <td>204126.947941</td>\n",
       "      <td>0.277596</td>\n",
       "      <td>0.128861</td>\n",
       "      <td>0.392676</td>\n",
       "      <td>0.956406</td>\n",
       "      <td>0.187131</td>\n",
       "      <td>0.903984</td>\n",
       "      <td>2.003098e+07</td>\n",
       "      <td>[(-2089203.1341303517, 1764248.6226340423), (-...</td>\n",
       "    </tr>\n",
       "    <tr>\n",
       "      <th>4</th>\n",
       "      <td>4</td>\n",
       "      <td>337687.699386</td>\n",
       "      <td>0.374245</td>\n",
       "      <td>0.324405</td>\n",
       "      <td>0.680116</td>\n",
       "      <td>0.795535</td>\n",
       "      <td>0.503934</td>\n",
       "      <td>0.296242</td>\n",
       "      <td>2.981107e+07</td>\n",
       "      <td>[(-2087013.9857393645, 1758534.1178913135), (-...</td>\n",
       "    </tr>\n",
       "  </tbody>\n",
       "</table>\n",
       "</div>"
      ],
      "text/plain": [
       "   _id           area     water   ponding   organic     slope       gdd  \\\n",
       "0    0  212202.777883  0.470132  0.716075  0.287991  0.383462  0.749170   \n",
       "1    1  115054.634691  0.311945  0.398221  0.209844  0.186193  0.944372   \n",
       "2    2  308655.040738  0.555649  0.009240  0.833038  0.984329  0.703495   \n",
       "3    3  204126.947941  0.277596  0.128861  0.392676  0.956406  0.187131   \n",
       "4    4  337687.699386  0.374245  0.324405  0.680116  0.795535  0.503934   \n",
       "\n",
       "       road     tot_price                                             coords  \n",
       "0  0.878452  2.096351e+07  [(-2126055.914236194, 1782007.052652219), (-21...  \n",
       "1  0.739551  6.928590e+06  [(-2125540.6725971815, 1742579.3279602642), (-...  \n",
       "2  0.181631  3.277608e+07  [(-2091681.9641146532, 1748159.6261059537), (-...  \n",
       "3  0.903984  2.003098e+07  [(-2089203.1341303517, 1764248.6226340423), (-...  \n",
       "4  0.296242  2.981107e+07  [(-2087013.9857393645, 1758534.1178913135), (-...  "
      ]
     },
     "execution_count": 5,
     "metadata": {},
     "output_type": "execute_result"
    }
   ],
   "source": [
    "sh_df.head()"
   ]
  },
  {
   "cell_type": "code",
   "execution_count": 6,
   "metadata": {},
   "outputs": [
    {
     "data": {
      "text/plain": [
       "_id          0\n",
       "area         0\n",
       "water        0\n",
       "ponding      0\n",
       "organic      0\n",
       "slope        0\n",
       "gdd          0\n",
       "road         0\n",
       "tot_price    0\n",
       "coords       0\n",
       "dtype: int64"
      ]
     },
     "execution_count": 6,
     "metadata": {},
     "output_type": "execute_result"
    }
   ],
   "source": [
    "#check if there is null value\n",
    "sh_df.isnull().sum()"
   ]
  },
  {
   "cell_type": "code",
   "execution_count": 7,
   "metadata": {},
   "outputs": [],
   "source": [
    "#calculate 'price per area'\n",
    "sh_df['price_per_area'] = sh_df['tot_price']/sh_df['area']"
   ]
  },
  {
   "cell_type": "code",
   "execution_count": 8,
   "metadata": {},
   "outputs": [
    {
     "name": "stdout",
     "output_type": "stream",
     "text": [
      "   _id           area     water   ponding   organic     slope       gdd  \\\n",
      "0    0  212202.777883  0.470132  0.716075  0.287991  0.383462  0.749170   \n",
      "1    1  115054.634691  0.311945  0.398221  0.209844  0.186193  0.944372   \n",
      "2    2  308655.040738  0.555649  0.009240  0.833038  0.984329  0.703495   \n",
      "3    3  204126.947941  0.277596  0.128861  0.392676  0.956406  0.187131   \n",
      "4    4  337687.699386  0.374245  0.324405  0.680116  0.795535  0.503934   \n",
      "5    5  267802.808749  0.519952  0.693956  0.090886  0.227760  0.410302   \n",
      "6    6  235248.492041  0.564064  0.956933  0.113486  0.272229  0.082058   \n",
      "7    7  329809.412123  0.432984  0.528234  0.349440  0.781480  0.751022   \n",
      "8    8  297184.603391  0.205566  0.535468  0.437814  0.974990  0.300824   \n",
      "9    9  314015.304961  0.817339  0.473143  0.882284  0.733289  0.409726   \n",
      "\n",
      "       road     tot_price                                             coords  \\\n",
      "0  0.878452  2.096351e+07  [(-2126055.914236194, 1782007.052652219), (-21...   \n",
      "1  0.739551  6.928590e+06  [(-2125540.6725971815, 1742579.3279602642), (-...   \n",
      "2  0.181631  3.277608e+07  [(-2091681.9641146532, 1748159.6261059537), (-...   \n",
      "3  0.903984  2.003098e+07  [(-2089203.1341303517, 1764248.6226340423), (-...   \n",
      "4  0.296242  2.981107e+07  [(-2087013.9857393645, 1758534.1178913135), (-...   \n",
      "5  0.623295  1.679927e+07  [(-2056500.2007796504, 1753792.6349467156), (-...   \n",
      "6  0.765271  2.509396e+07  [(-2056601.0062114038, 1765846.6800574993), (-...   \n",
      "7  0.927212  3.140775e+07  [(-2132724.895373396, 1744103.9862116233), (-2...   \n",
      "8  0.078970  1.801533e+07  [(-2132061.4443693142, 1778372.073337609), (-2...   \n",
      "9  0.373511  3.429989e+07  [(-2070980.1071930693, 1781954.9899714158), (-...   \n",
      "\n",
      "   price_per_area  \n",
      "0           98.79  \n",
      "1           60.22  \n",
      "2          106.19  \n",
      "3           98.13  \n",
      "4           88.28  \n",
      "5           62.73  \n",
      "6          106.67  \n",
      "7           95.23  \n",
      "8           60.62  \n",
      "9          109.23  \n",
      "(500, 11)\n"
     ]
    }
   ],
   "source": [
    "print(sh_df.head(10))\n",
    "print(sh_df.shape)"
   ]
  },
  {
   "cell_type": "code",
   "execution_count": 9,
   "metadata": {},
   "outputs": [
    {
     "data": {
      "text/plain": [
       "Text(0,0.5,'Frequency')"
      ]
     },
     "execution_count": 9,
     "metadata": {},
     "output_type": "execute_result"
    },
    {
     "data": {
      "image/png": "[encoded data removed]",
      "text/plain": [
       "<Figure size 432x288 with 1 Axes>"
      ]
     },
     "metadata": {},
     "output_type": "display_data"
    }
   ],
   "source": [
    "#create histogram for 'price per area'\n",
    "plt.hist(sh_df['price_per_area'],bins='auto')\n",
    "plt.title('Price-per-area Histogram')\n",
    "plt.xlabel('Price-per-area')\n",
    "plt.ylabel('Frequency')"
   ]
  },
  {
   "cell_type": "markdown",
   "metadata": {},
   "source": [
    "# Task 2 - Valuation Model with scalar attributes"
   ]
  },
  {
   "cell_type": "code",
   "execution_count": 10,
   "metadata": {},
   "outputs": [],
   "source": [
    "# 1. drop 'coords' since it's not a scalar attribute\n",
    "# 2. drop 'tot_price' since 'price_per_area' will be used as target Y\n",
    "# 3. drop '-id' since it's not useful\n",
    "# sh_df.columns"
   ]
  },
  {
   "cell_type": "code",
   "execution_count": 57,
   "metadata": {},
   "outputs": [
    {
     "data": {
      "text/plain": [
       "tot_price         1.000000\n",
       "area              0.885017\n",
       "price_per_area    0.750071\n",
       "ponding           0.129602\n",
       "organic           0.106254\n",
       "gdd               0.075735\n",
       "road              0.058080\n",
       "water             0.049341\n",
       "slope             0.032900\n",
       "Name: tot_price, dtype: float64"
      ]
     },
     "execution_count": 57,
     "metadata": {},
     "output_type": "execute_result"
    }
   ],
   "source": [
    "# #test corr\n",
    "# d2 = sh_df.drop(columns = ['_id','coords'])\n",
    "# m2 = d2.corr()\n",
    "# m2['tot_price'].sort_values(ascending = False)"
   ]
  },
  {
   "cell_type": "code",
   "execution_count": 11,
   "metadata": {},
   "outputs": [
    {
     "data": {
      "text/html": [
       "<div>\n",
       "<style scoped>\n",
       "    .dataframe tbody tr th:only-of-type {\n",
       "        vertical-align: middle;\n",
       "    }\n",
       "\n",
       "    .dataframe tbody tr th {\n",
       "        vertical-align: top;\n",
       "    }\n",
       "\n",
       "    .dataframe thead th {\n",
       "        text-align: right;\n",
       "    }\n",
       "</style>\n",
       "<table border=\"1\" class=\"dataframe\">\n",
       "  <thead>\n",
       "    <tr style=\"text-align: right;\">\n",
       "      <th></th>\n",
       "      <th>area</th>\n",
       "      <th>water</th>\n",
       "      <th>ponding</th>\n",
       "      <th>organic</th>\n",
       "      <th>slope</th>\n",
       "      <th>gdd</th>\n",
       "      <th>road</th>\n",
       "      <th>price_per_area</th>\n",
       "    </tr>\n",
       "  </thead>\n",
       "  <tbody>\n",
       "    <tr>\n",
       "      <th>0</th>\n",
       "      <td>212202.777883</td>\n",
       "      <td>0.470132</td>\n",
       "      <td>0.716075</td>\n",
       "      <td>0.287991</td>\n",
       "      <td>0.383462</td>\n",
       "      <td>0.749170</td>\n",
       "      <td>0.878452</td>\n",
       "      <td>98.79</td>\n",
       "    </tr>\n",
       "    <tr>\n",
       "      <th>1</th>\n",
       "      <td>115054.634691</td>\n",
       "      <td>0.311945</td>\n",
       "      <td>0.398221</td>\n",
       "      <td>0.209844</td>\n",
       "      <td>0.186193</td>\n",
       "      <td>0.944372</td>\n",
       "      <td>0.739551</td>\n",
       "      <td>60.22</td>\n",
       "    </tr>\n",
       "    <tr>\n",
       "      <th>2</th>\n",
       "      <td>308655.040738</td>\n",
       "      <td>0.555649</td>\n",
       "      <td>0.009240</td>\n",
       "      <td>0.833038</td>\n",
       "      <td>0.984329</td>\n",
       "      <td>0.703495</td>\n",
       "      <td>0.181631</td>\n",
       "      <td>106.19</td>\n",
       "    </tr>\n",
       "    <tr>\n",
       "      <th>3</th>\n",
       "      <td>204126.947941</td>\n",
       "      <td>0.277596</td>\n",
       "      <td>0.128861</td>\n",
       "      <td>0.392676</td>\n",
       "      <td>0.956406</td>\n",
       "      <td>0.187131</td>\n",
       "      <td>0.903984</td>\n",
       "      <td>98.13</td>\n",
       "    </tr>\n",
       "    <tr>\n",
       "      <th>4</th>\n",
       "      <td>337687.699386</td>\n",
       "      <td>0.374245</td>\n",
       "      <td>0.324405</td>\n",
       "      <td>0.680116</td>\n",
       "      <td>0.795535</td>\n",
       "      <td>0.503934</td>\n",
       "      <td>0.296242</td>\n",
       "      <td>88.28</td>\n",
       "    </tr>\n",
       "  </tbody>\n",
       "</table>\n",
       "</div>"
      ],
      "text/plain": [
       "            area     water   ponding   organic     slope       gdd      road  \\\n",
       "0  212202.777883  0.470132  0.716075  0.287991  0.383462  0.749170  0.878452   \n",
       "1  115054.634691  0.311945  0.398221  0.209844  0.186193  0.944372  0.739551   \n",
       "2  308655.040738  0.555649  0.009240  0.833038  0.984329  0.703495  0.181631   \n",
       "3  204126.947941  0.277596  0.128861  0.392676  0.956406  0.187131  0.903984   \n",
       "4  337687.699386  0.374245  0.324405  0.680116  0.795535  0.503934  0.296242   \n",
       "\n",
       "   price_per_area  \n",
       "0           98.79  \n",
       "1           60.22  \n",
       "2          106.19  \n",
       "3           98.13  \n",
       "4           88.28  "
      ]
     },
     "execution_count": 11,
     "metadata": {},
     "output_type": "execute_result"
    }
   ],
   "source": [
    "df_scalar = sh_df.drop(columns = ['_id','tot_price','coords'])\n",
    "df_scalar.head(5)"
   ]
  },
  {
   "cell_type": "code",
   "execution_count": 12,
   "metadata": {},
   "outputs": [],
   "source": [
    "# There are only 7 input features so feature selection may not be necessary in this case. But I'll be doing \n",
    "# variable analysis below nonethesless as if there are 100 features."
   ]
  },
  {
   "cell_type": "code",
   "execution_count": 13,
   "metadata": {},
   "outputs": [
    {
     "data": {
      "text/html": [
       "<div>\n",
       "<style scoped>\n",
       "    .dataframe tbody tr th:only-of-type {\n",
       "        vertical-align: middle;\n",
       "    }\n",
       "\n",
       "    .dataframe tbody tr th {\n",
       "        vertical-align: top;\n",
       "    }\n",
       "\n",
       "    .dataframe thead th {\n",
       "        text-align: right;\n",
       "    }\n",
       "</style>\n",
       "<table border=\"1\" class=\"dataframe\">\n",
       "  <thead>\n",
       "    <tr style=\"text-align: right;\">\n",
       "      <th></th>\n",
       "      <th>area</th>\n",
       "      <th>water</th>\n",
       "      <th>ponding</th>\n",
       "      <th>organic</th>\n",
       "      <th>slope</th>\n",
       "      <th>gdd</th>\n",
       "      <th>road</th>\n",
       "      <th>price_per_area</th>\n",
       "    </tr>\n",
       "  </thead>\n",
       "  <tbody>\n",
       "    <tr>\n",
       "      <th>0</th>\n",
       "      <td>-0.049846</td>\n",
       "      <td>-0.022080</td>\n",
       "      <td>0.215780</td>\n",
       "      <td>-0.227536</td>\n",
       "      <td>-0.131054</td>\n",
       "      <td>0.236632</td>\n",
       "      <td>0.403051</td>\n",
       "      <td>0.152355</td>\n",
       "    </tr>\n",
       "    <tr>\n",
       "      <th>1</th>\n",
       "      <td>-0.382859</td>\n",
       "      <td>-0.180920</td>\n",
       "      <td>-0.103384</td>\n",
       "      <td>-0.305967</td>\n",
       "      <td>-0.328668</td>\n",
       "      <td>0.432760</td>\n",
       "      <td>0.262898</td>\n",
       "      <td>-0.204147</td>\n",
       "    </tr>\n",
       "    <tr>\n",
       "      <th>2</th>\n",
       "      <td>0.280782</td>\n",
       "      <td>0.063791</td>\n",
       "      <td>-0.493968</td>\n",
       "      <td>0.319496</td>\n",
       "      <td>0.470864</td>\n",
       "      <td>0.190740</td>\n",
       "      <td>-0.300049</td>\n",
       "      <td>0.220753</td>\n",
       "    </tr>\n",
       "    <tr>\n",
       "      <th>3</th>\n",
       "      <td>-0.077529</td>\n",
       "      <td>-0.215411</td>\n",
       "      <td>-0.373855</td>\n",
       "      <td>-0.122470</td>\n",
       "      <td>0.442892</td>\n",
       "      <td>-0.328073</td>\n",
       "      <td>0.428812</td>\n",
       "      <td>0.146255</td>\n",
       "    </tr>\n",
       "    <tr>\n",
       "      <th>4</th>\n",
       "      <td>0.380303</td>\n",
       "      <td>-0.118363</td>\n",
       "      <td>-0.177504</td>\n",
       "      <td>0.166017</td>\n",
       "      <td>0.281740</td>\n",
       "      <td>-0.009768</td>\n",
       "      <td>-0.184405</td>\n",
       "      <td>0.055211</td>\n",
       "    </tr>\n",
       "  </tbody>\n",
       "</table>\n",
       "</div>"
      ],
      "text/plain": [
       "       area     water   ponding   organic     slope       gdd      road  \\\n",
       "0 -0.049846 -0.022080  0.215780 -0.227536 -0.131054  0.236632  0.403051   \n",
       "1 -0.382859 -0.180920 -0.103384 -0.305967 -0.328668  0.432760  0.262898   \n",
       "2  0.280782  0.063791 -0.493968  0.319496  0.470864  0.190740 -0.300049   \n",
       "3 -0.077529 -0.215411 -0.373855 -0.122470  0.442892 -0.328073  0.428812   \n",
       "4  0.380303 -0.118363 -0.177504  0.166017  0.281740 -0.009768 -0.184405   \n",
       "\n",
       "   price_per_area  \n",
       "0        0.152355  \n",
       "1       -0.204147  \n",
       "2        0.220753  \n",
       "3        0.146255  \n",
       "4        0.055211  "
      ]
     },
     "execution_count": 13,
     "metadata": {},
     "output_type": "execute_result"
    }
   ],
   "source": [
    "# min-max normalization\n",
    "mea = np.mean(df_scalar)\n",
    "rang = np.max(df_scalar) - np.min(df_scalar)\n",
    "df_scalar_norm = (df_scalar - mea)/rang\n",
    "df_scalar_norm.head(5)"
   ]
  },
  {
   "cell_type": "code",
   "execution_count": 14,
   "metadata": {},
   "outputs": [
    {
     "data": {
      "text/plain": [
       "<matplotlib.axes._subplots.AxesSubplot at 0x10fb715c0>"
      ]
     },
     "execution_count": 14,
     "metadata": {},
     "output_type": "execute_result"
    },
    {
     "data": {
      "image/png": "[encoded data removed]",
      "text/plain": [
       "<Figure size 576x432 with 2 Axes>"
      ]
     },
     "metadata": {},
     "output_type": "display_data"
    }
   ],
   "source": [
    "#plotting correlation with heatmap\n",
    "matrix = df_scalar_norm.corr()\n",
    "f, ax = plt.subplots(figsize=(8,6))\n",
    "sns.heatmap(matrix, vmax=0.8, square = True)\n",
    "\n",
    "#surprisingly, gdd and slope don't have high correlation with price-per-area"
   ]
  },
  {
   "cell_type": "code",
   "execution_count": 15,
   "metadata": {},
   "outputs": [
    {
     "data": {
      "text/plain": [
       "area       0.395904\n",
       "organic    0.291332\n",
       "ponding    0.269178\n",
       "gdd        0.160012\n",
       "road       0.157440\n",
       "water      0.153888\n",
       "slope      0.006206\n",
       "Name: price_per_area, dtype: float64"
      ]
     },
     "execution_count": 15,
     "metadata": {},
     "output_type": "execute_result"
    }
   ],
   "source": [
    "# listing out correlation with 'price_per_area' in order\n",
    "feature = matrix['price_per_area'].sort_values(ascending = False)\n",
    "feature = feature[feature.index != 'price_per_area']\n",
    "feature"
   ]
  },
  {
   "cell_type": "code",
   "execution_count": 16,
   "metadata": {},
   "outputs": [
    {
     "data": {
      "text/plain": [
       "RandomForestRegressor(bootstrap=True, criterion='mse', max_depth=None,\n",
       "           max_features='auto', max_leaf_nodes=None,\n",
       "           min_impurity_decrease=0.0, min_impurity_split=None,\n",
       "           min_samples_leaf=1, min_samples_split=2,\n",
       "           min_weight_fraction_leaf=0.0, n_estimators=100, n_jobs=1,\n",
       "           oob_score=False, random_state=None, verbose=0, warm_start=False)"
      ]
     },
     "execution_count": 16,
     "metadata": {},
     "output_type": "execute_result"
    }
   ],
   "source": [
    "# Training Random Forest Regressor\n",
    "pred = list(feature.index)\n",
    "target = 'price_per_area'\n",
    "X = df_scalar_norm[pred]\n",
    "Y = df_scalar_norm[target]\n",
    "\n",
    "X_train, X_test, Y_train, Y_test = train_test_split(X, Y, test_size = 0.2)\n",
    "\n",
    "#there doesn't appear to be much difference between 100 trees and 10 trees\n",
    "#if n_estimator < 10, then the model becomes biased or underfit and error will increase \n",
    "model = RandomForestRegressor(n_estimators = 100)\n",
    "model.fit(X_train, Y_train)"
   ]
  },
  {
   "cell_type": "code",
   "execution_count": 17,
   "metadata": {},
   "outputs": [
    {
     "data": {
      "image/png": "[encoded data removed]",
      "text/plain": [
       "<Figure size 432x288 with 1 Axes>"
      ]
     },
     "metadata": {},
     "output_type": "display_data"
    }
   ],
   "source": [
    "# Make prediction with trained regressor and visualize discrepancy between prediction and real price\n",
    "Y_pred = model.predict(X_test)\n",
    "\n",
    "plt.scatter(Y_pred, Y_test)\n",
    "plt.xlabel('Prediction')\n",
    "plt.ylabel('Real acrePrice')\n",
    "\n",
    "perfectLine = np.linspace(np.min(Y_test), np.max(Y_test), 100)\n",
    "plt.plot(perfectLine, perfectLine, '-g')\n",
    "plt.show()\n"
   ]
  },
  {
   "cell_type": "code",
   "execution_count": 18,
   "metadata": {},
   "outputs": [
    {
     "data": {
      "text/plain": [
       "0.023639036959828635"
      ]
     },
     "execution_count": 18,
     "metadata": {},
     "output_type": "execute_result"
    }
   ],
   "source": [
    "# compute mean_squared_error\n",
    "from sklearn.metrics import mean_squared_error\n",
    "mean_squared_error(Y_test, Y_pred)"
   ]
  },
  {
   "cell_type": "markdown",
   "metadata": {},
   "source": [
    "# Task 3 - Incorporate parcel geometries into model"
   ]
  },
  {
   "cell_type": "code",
   "execution_count": 82,
   "metadata": {},
   "outputs": [
    {
     "name": "stdout",
     "output_type": "stream",
     "text": [
      "[(-2126055.914236194, 1782007.052652219), (-2126123.5810968173, 1782223.3234849542), (-2126134.680315325, 1782343.2096728592), (-2126034.6143737948, 1782580.6883616173), (-2125957.518820213, 1782589.190666593), (-2125809.348663279, 1782529.7241628568), (-2125717.140125162, 1782389.7431134176), (-2125635.40281591, 1782071.1597750727), (-2125669.85080682, 1782051.3061248835), (-2125951.84984425, 1782013.4312285504), (-2126055.914236194, 1782007.052652219)]\n",
      "\n",
      "\n",
      "[(-2125540.6725971815, 1742579.3279602642), (-2125531.525086078, 1742431.339366743), (-2125556.049590267, 1742567.2572634367), (-2125570.205447589, 1742610.14189409), (-2125423.130571558, 1742615.3011019225), (-2125540.6725971815, 1742579.3279602642), (-2125207.6929388223, 1742077.555683562), (-2125317.719616254, 1742091.055118847), (-2125386.031601641, 1742099.9525231163), (-2125284.004426814, 1742201.188018668), (-2125239.0796179753, 1742317.3033871036), (-2125308.9618981616, 1742412.398311656), (-2125285.7464306667, 1742450.3728177575), (-2125368.822624817, 1742593.6063388528), (-2125201.796800247, 1742657.760529784), (-2125045.0286769746, 1742571.9343312788), (-2125069.8131812215, 1742426.831899423), (-2125092.413622466, 1742278.989447872), (-2125154.122957962, 1742192.8071386795), (-2125207.6929388223, 1742077.555683562)]\n"
     ]
    }
   ],
   "source": [
    "#Just poking around to understand more about coordinates...\n",
    "# coords appears contain all (x,y) points needed to specify a shape \n",
    "# sh_df['coords'][0]\n",
    "\n",
    "# print(len(sh_df['coords'][0]))\n",
    "# print(len(sh_df['coords'][1]))\n",
    "\n",
    "# different number of points are used in coords\n",
    "# print(sh_df['coords'][0])\n",
    "# print('\\n')\n",
    "# print(sh_df['coords'][1])"
   ]
  },
  {
   "cell_type": "code",
   "execution_count": 19,
   "metadata": {},
   "outputs": [
    {
     "data": {
      "text/html": [
       "<div>\n",
       "<style scoped>\n",
       "    .dataframe tbody tr th:only-of-type {\n",
       "        vertical-align: middle;\n",
       "    }\n",
       "\n",
       "    .dataframe tbody tr th {\n",
       "        vertical-align: top;\n",
       "    }\n",
       "\n",
       "    .dataframe thead th {\n",
       "        text-align: right;\n",
       "    }\n",
       "</style>\n",
       "<table border=\"1\" class=\"dataframe\">\n",
       "  <thead>\n",
       "    <tr style=\"text-align: right;\">\n",
       "      <th></th>\n",
       "      <th>_id</th>\n",
       "      <th>area</th>\n",
       "      <th>water</th>\n",
       "      <th>ponding</th>\n",
       "      <th>organic</th>\n",
       "      <th>slope</th>\n",
       "      <th>gdd</th>\n",
       "      <th>road</th>\n",
       "      <th>tot_price</th>\n",
       "      <th>coords</th>\n",
       "      <th>price_per_area</th>\n",
       "      <th>polygon_area</th>\n",
       "      <th>convex_area</th>\n",
       "      <th>num_points</th>\n",
       "      <th>land_to_convex_ratio</th>\n",
       "    </tr>\n",
       "  </thead>\n",
       "  <tbody>\n",
       "    <tr>\n",
       "      <th>0</th>\n",
       "      <td>0</td>\n",
       "      <td>212202.777883</td>\n",
       "      <td>0.470132</td>\n",
       "      <td>0.716075</td>\n",
       "      <td>0.287991</td>\n",
       "      <td>0.383462</td>\n",
       "      <td>0.749170</td>\n",
       "      <td>0.878452</td>\n",
       "      <td>2.096351e+07</td>\n",
       "      <td>[(-2126055.914236194, 1782007.052652219), (-21...</td>\n",
       "      <td>98.79</td>\n",
       "      <td>212202.777883</td>\n",
       "      <td>212202.777883</td>\n",
       "      <td>11</td>\n",
       "      <td>1.000000</td>\n",
       "    </tr>\n",
       "    <tr>\n",
       "      <th>1</th>\n",
       "      <td>1</td>\n",
       "      <td>115054.634691</td>\n",
       "      <td>0.311945</td>\n",
       "      <td>0.398221</td>\n",
       "      <td>0.209844</td>\n",
       "      <td>0.186193</td>\n",
       "      <td>0.944372</td>\n",
       "      <td>0.739551</td>\n",
       "      <td>6.928590e+06</td>\n",
       "      <td>[(-2125540.6725971815, 1742579.3279602642), (-...</td>\n",
       "      <td>60.22</td>\n",
       "      <td>115054.634691</td>\n",
       "      <td>214637.869507</td>\n",
       "      <td>20</td>\n",
       "      <td>0.536041</td>\n",
       "    </tr>\n",
       "    <tr>\n",
       "      <th>2</th>\n",
       "      <td>2</td>\n",
       "      <td>308655.040738</td>\n",
       "      <td>0.555649</td>\n",
       "      <td>0.009240</td>\n",
       "      <td>0.833038</td>\n",
       "      <td>0.984329</td>\n",
       "      <td>0.703495</td>\n",
       "      <td>0.181631</td>\n",
       "      <td>3.277608e+07</td>\n",
       "      <td>[(-2091681.9641146532, 1748159.6261059537), (-...</td>\n",
       "      <td>106.19</td>\n",
       "      <td>308655.040738</td>\n",
       "      <td>308655.040738</td>\n",
       "      <td>5</td>\n",
       "      <td>1.000000</td>\n",
       "    </tr>\n",
       "    <tr>\n",
       "      <th>3</th>\n",
       "      <td>3</td>\n",
       "      <td>204126.947941</td>\n",
       "      <td>0.277596</td>\n",
       "      <td>0.128861</td>\n",
       "      <td>0.392676</td>\n",
       "      <td>0.956406</td>\n",
       "      <td>0.187131</td>\n",
       "      <td>0.903984</td>\n",
       "      <td>2.003098e+07</td>\n",
       "      <td>[(-2089203.1341303517, 1764248.6226340423), (-...</td>\n",
       "      <td>98.13</td>\n",
       "      <td>204126.947941</td>\n",
       "      <td>297176.441461</td>\n",
       "      <td>24</td>\n",
       "      <td>0.686888</td>\n",
       "    </tr>\n",
       "    <tr>\n",
       "      <th>4</th>\n",
       "      <td>4</td>\n",
       "      <td>337687.699386</td>\n",
       "      <td>0.374245</td>\n",
       "      <td>0.324405</td>\n",
       "      <td>0.680116</td>\n",
       "      <td>0.795535</td>\n",
       "      <td>0.503934</td>\n",
       "      <td>0.296242</td>\n",
       "      <td>2.981107e+07</td>\n",
       "      <td>[(-2087013.9857393645, 1758534.1178913135), (-...</td>\n",
       "      <td>88.28</td>\n",
       "      <td>337687.699386</td>\n",
       "      <td>337687.699386</td>\n",
       "      <td>5</td>\n",
       "      <td>1.000000</td>\n",
       "    </tr>\n",
       "  </tbody>\n",
       "</table>\n",
       "</div>"
      ],
      "text/plain": [
       "   _id           area     water   ponding   organic     slope       gdd  \\\n",
       "0    0  212202.777883  0.470132  0.716075  0.287991  0.383462  0.749170   \n",
       "1    1  115054.634691  0.311945  0.398221  0.209844  0.186193  0.944372   \n",
       "2    2  308655.040738  0.555649  0.009240  0.833038  0.984329  0.703495   \n",
       "3    3  204126.947941  0.277596  0.128861  0.392676  0.956406  0.187131   \n",
       "4    4  337687.699386  0.374245  0.324405  0.680116  0.795535  0.503934   \n",
       "\n",
       "       road     tot_price                                             coords  \\\n",
       "0  0.878452  2.096351e+07  [(-2126055.914236194, 1782007.052652219), (-21...   \n",
       "1  0.739551  6.928590e+06  [(-2125540.6725971815, 1742579.3279602642), (-...   \n",
       "2  0.181631  3.277608e+07  [(-2091681.9641146532, 1748159.6261059537), (-...   \n",
       "3  0.903984  2.003098e+07  [(-2089203.1341303517, 1764248.6226340423), (-...   \n",
       "4  0.296242  2.981107e+07  [(-2087013.9857393645, 1758534.1178913135), (-...   \n",
       "\n",
       "   price_per_area   polygon_area    convex_area  num_points  \\\n",
       "0           98.79  212202.777883  212202.777883          11   \n",
       "1           60.22  115054.634691  214637.869507          20   \n",
       "2          106.19  308655.040738  308655.040738           5   \n",
       "3           98.13  204126.947941  297176.441461          24   \n",
       "4           88.28  337687.699386  337687.699386           5   \n",
       "\n",
       "   land_to_convex_ratio  \n",
       "0              1.000000  \n",
       "1              0.536041  \n",
       "2              1.000000  \n",
       "3              0.686888  \n",
       "4              1.000000  "
      ]
     },
     "execution_count": 19,
     "metadata": {},
     "output_type": "execute_result"
    }
   ],
   "source": [
    "# features(continuous) that can be used for measuring convex-ness\n",
    "# 1. land_to_convex_ratio = (polygon area by existing coords)/(convex hull area)\n",
    "#    a more convex-ed parcel would probably have higher ratio.\n",
    "# 2. num_points = number of points needed to describe the shape\n",
    "#    a more convex-ed parcel would probably need fewer points.\n",
    "# 3.(not implementd) concave_to_convex_ratio = (concave hull area)/(convex hull area)\n",
    "#    this should work better than #1? but it will take quiet a bit time to develop concave algorithm since shapely \n",
    "#    only contains convex function\n",
    "\n",
    "def get_poly_area(coordinates):\n",
    "    return Polygon(coordinates).area\n",
    "sh_df['polygon_area']= sh_df['coords'].apply(get_poly_area)\n",
    "\n",
    "def get_convex_area(coordinates):\n",
    "    return Polygon(coordinates).convex_hull.area\n",
    "sh_df['convex_area']= sh_df['coords'].apply(get_convex_area)\n",
    "\n",
    "def get_num_points(coordinates):\n",
    "    return len(coordinates)\n",
    "sh_df['num_points']= sh_df['coords'].apply(get_num_points)\n",
    "\n",
    "sh_df['land_to_convex_ratio'] = sh_df['polygon_area']/sh_df['convex_area']\n",
    "\n",
    "sh_df.head(5)"
   ]
  },
  {
   "cell_type": "code",
   "execution_count": 20,
   "metadata": {},
   "outputs": [
    {
     "data": {
      "text/html": [
       "<div>\n",
       "<style scoped>\n",
       "    .dataframe tbody tr th:only-of-type {\n",
       "        vertical-align: middle;\n",
       "    }\n",
       "\n",
       "    .dataframe tbody tr th {\n",
       "        vertical-align: top;\n",
       "    }\n",
       "\n",
       "    .dataframe thead th {\n",
       "        text-align: right;\n",
       "    }\n",
       "</style>\n",
       "<table border=\"1\" class=\"dataframe\">\n",
       "  <thead>\n",
       "    <tr style=\"text-align: right;\">\n",
       "      <th></th>\n",
       "      <th>area</th>\n",
       "      <th>water</th>\n",
       "      <th>ponding</th>\n",
       "      <th>organic</th>\n",
       "      <th>slope</th>\n",
       "      <th>gdd</th>\n",
       "      <th>road</th>\n",
       "      <th>price_per_area</th>\n",
       "      <th>num_points</th>\n",
       "      <th>land_to_convex_ratio</th>\n",
       "    </tr>\n",
       "  </thead>\n",
       "  <tbody>\n",
       "    <tr>\n",
       "      <th>0</th>\n",
       "      <td>-0.049846</td>\n",
       "      <td>-0.022080</td>\n",
       "      <td>0.215780</td>\n",
       "      <td>-0.227536</td>\n",
       "      <td>-0.131054</td>\n",
       "      <td>0.236632</td>\n",
       "      <td>0.403051</td>\n",
       "      <td>0.152355</td>\n",
       "      <td>-0.168061</td>\n",
       "      <td>0.181994</td>\n",
       "    </tr>\n",
       "    <tr>\n",
       "      <th>1</th>\n",
       "      <td>-0.382859</td>\n",
       "      <td>-0.180920</td>\n",
       "      <td>-0.103384</td>\n",
       "      <td>-0.305967</td>\n",
       "      <td>-0.328668</td>\n",
       "      <td>0.432760</td>\n",
       "      <td>0.262898</td>\n",
       "      <td>-0.204147</td>\n",
       "      <td>0.104667</td>\n",
       "      <td>-0.295866</td>\n",
       "    </tr>\n",
       "    <tr>\n",
       "      <th>2</th>\n",
       "      <td>0.280782</td>\n",
       "      <td>0.063791</td>\n",
       "      <td>-0.493968</td>\n",
       "      <td>0.319496</td>\n",
       "      <td>0.470864</td>\n",
       "      <td>0.190740</td>\n",
       "      <td>-0.300049</td>\n",
       "      <td>0.220753</td>\n",
       "      <td>-0.349879</td>\n",
       "      <td>0.181994</td>\n",
       "    </tr>\n",
       "    <tr>\n",
       "      <th>3</th>\n",
       "      <td>-0.077529</td>\n",
       "      <td>-0.215411</td>\n",
       "      <td>-0.373855</td>\n",
       "      <td>-0.122470</td>\n",
       "      <td>0.442892</td>\n",
       "      <td>-0.328073</td>\n",
       "      <td>0.428812</td>\n",
       "      <td>0.146255</td>\n",
       "      <td>0.225879</td>\n",
       "      <td>-0.140499</td>\n",
       "    </tr>\n",
       "    <tr>\n",
       "      <th>4</th>\n",
       "      <td>0.380303</td>\n",
       "      <td>-0.118363</td>\n",
       "      <td>-0.177504</td>\n",
       "      <td>0.166017</td>\n",
       "      <td>0.281740</td>\n",
       "      <td>-0.009768</td>\n",
       "      <td>-0.184405</td>\n",
       "      <td>0.055211</td>\n",
       "      <td>-0.349879</td>\n",
       "      <td>0.181994</td>\n",
       "    </tr>\n",
       "  </tbody>\n",
       "</table>\n",
       "</div>"
      ],
      "text/plain": [
       "       area     water   ponding   organic     slope       gdd      road  \\\n",
       "0 -0.049846 -0.022080  0.215780 -0.227536 -0.131054  0.236632  0.403051   \n",
       "1 -0.382859 -0.180920 -0.103384 -0.305967 -0.328668  0.432760  0.262898   \n",
       "2  0.280782  0.063791 -0.493968  0.319496  0.470864  0.190740 -0.300049   \n",
       "3 -0.077529 -0.215411 -0.373855 -0.122470  0.442892 -0.328073  0.428812   \n",
       "4  0.380303 -0.118363 -0.177504  0.166017  0.281740 -0.009768 -0.184405   \n",
       "\n",
       "   price_per_area  num_points  land_to_convex_ratio  \n",
       "0        0.152355   -0.168061              0.181994  \n",
       "1       -0.204147    0.104667             -0.295866  \n",
       "2        0.220753   -0.349879              0.181994  \n",
       "3        0.146255    0.225879             -0.140499  \n",
       "4        0.055211   -0.349879              0.181994  "
      ]
     },
     "execution_count": 20,
     "metadata": {},
     "output_type": "execute_result"
    }
   ],
   "source": [
    "# drop columns that won't be used as features\n",
    "df_scalar = sh_df.drop(columns = ['_id','coords','tot_price','polygon_area','convex_area'])\n",
    "\n",
    "# min-max normalization for dataframe with newly constructed features\n",
    "mea = np.mean(df_scalar)\n",
    "rang = np.max(df_scalar) - np.min(df_scalar)\n",
    "df_scalar_norm = (df_scalar - mea)/rang\n",
    "df_scalar_norm.head(5)"
   ]
  },
  {
   "cell_type": "code",
   "execution_count": 21,
   "metadata": {},
   "outputs": [
    {
     "data": {
      "text/plain": [
       "<matplotlib.axes._subplots.AxesSubplot at 0x10fde1ef0>"
      ]
     },
     "execution_count": 21,
     "metadata": {},
     "output_type": "execute_result"
    },
    {
     "data": {
      "image/png": "[encoded data removed]",
      "text/plain": [
       "<Figure size 576x432 with 2 Axes>"
      ]
     },
     "metadata": {},
     "output_type": "display_data"
    }
   ],
   "source": [
    "# re-compute correlation and redraw heatmap\n",
    "matrix = df_scalar_norm.corr()\n",
    "f, ax = plt.subplots(figsize=(8,6))\n",
    "sns.heatmap(matrix, vmax=0.8, square = True)"
   ]
  },
  {
   "cell_type": "code",
   "execution_count": 22,
   "metadata": {},
   "outputs": [
    {
     "data": {
      "text/plain": [
       "land_to_convex_ratio    0.421613\n",
       "area                    0.395904\n",
       "organic                 0.291332\n",
       "ponding                 0.269178\n",
       "gdd                     0.160012\n",
       "road                    0.157440\n",
       "water                   0.153888\n",
       "slope                   0.006206\n",
       "num_points             -0.372374\n",
       "Name: price_per_area, dtype: float64"
      ]
     },
     "execution_count": 22,
     "metadata": {},
     "output_type": "execute_result"
    }
   ],
   "source": [
    "#re-print correlation list\n",
    "feature = matrix['price_per_area'].sort_values(ascending = False)\n",
    "feature = feature[feature.index != 'price_per_area']\n",
    "feature\n",
    "\n",
    "#the two newly added features (land_to_convex_ratio and num_points) has strongest correlations with \n",
    "#price-per-target out of all features. However, the correlation is still between weak to moderate (between 0.3 and 0.5) "
   ]
  },
  {
   "cell_type": "code",
   "execution_count": 23,
   "metadata": {},
   "outputs": [
    {
     "data": {
      "text/plain": [
       "RandomForestRegressor(bootstrap=True, criterion='mse', max_depth=None,\n",
       "           max_features='auto', max_leaf_nodes=None,\n",
       "           min_impurity_decrease=0.0, min_impurity_split=None,\n",
       "           min_samples_leaf=1, min_samples_split=2,\n",
       "           min_weight_fraction_leaf=0.0, n_estimators=100, n_jobs=1,\n",
       "           oob_score=False, random_state=None, verbose=0, warm_start=False)"
      ]
     },
     "execution_count": 23,
     "metadata": {},
     "output_type": "execute_result"
    }
   ],
   "source": [
    "#re-train random forest regressor\n",
    "pred = list(feature.index)\n",
    "target = 'price_per_area'\n",
    "X = df_scalar_norm[pred]\n",
    "Y = df_scalar_norm[target]\n",
    "\n",
    "X_train, X_test, Y_train, Y_test = train_test_split(X, Y, test_size = 0.2)\n",
    "\n",
    "#there doesn't appear to be much difference between 100 trees and 10 trees\n",
    "#if n_estimator < 10, then the model becomes biased or underfit and error will increase \n",
    "model = RandomForestRegressor(n_estimators = 100)\n",
    "model.fit(X_train, Y_train)"
   ]
  },
  {
   "cell_type": "code",
   "execution_count": 24,
   "metadata": {},
   "outputs": [
    {
     "data": {
      "image/png": "[encoded data removed]",
      "text/plain": [
       "<Figure size 432x288 with 1 Axes>"
      ]
     },
     "metadata": {},
     "output_type": "display_data"
    }
   ],
   "source": [
    "#re-draw comparison scatter plot\n",
    "Y_pred = model.predict(X_test)\n",
    "\n",
    "plt.scatter(Y_pred, Y_test)\n",
    "plt.xlabel('Prediction')\n",
    "plt.ylabel('Real acrePrice')\n",
    "\n",
    "perfectLine = np.linspace(np.min(Y_test), np.max(Y_test), 100)\n",
    "plt.plot(perfectLine, perfectLine, '-g')\n",
    "plt.show()\n",
    "\n",
    "#the prediction looks a little closer to real price now"
   ]
  },
  {
   "cell_type": "code",
   "execution_count": 25,
   "metadata": {},
   "outputs": [
    {
     "data": {
      "text/plain": [
       "0.018360983810529852"
      ]
     },
     "execution_count": 25,
     "metadata": {},
     "output_type": "execute_result"
    }
   ],
   "source": [
    "# compute mean_squared_error\n",
    "from sklearn.metrics import mean_squared_error\n",
    "mean_squared_error(Y_test, Y_pred)\n",
    "\n",
    "#square error is better than previous model (>0.0236)"
   ]
  },
  {
   "cell_type": "markdown",
   "metadata": {},
   "source": [
    "# Task 4 - Join CDL to parcel and incorporate crop type into model"
   ]
  },
  {
   "cell_type": "code",
   "execution_count": 30,
   "metadata": {},
   "outputs": [],
   "source": [
    "#overlay parcels onto CDL raster\n",
    "from rasterio.mask import mask\n",
    "with rasterio.open('CDL_2017_clip_20180808132906_1114279202.tif') as dataset:\n",
    "    masked, out_transform = mask(dataset, sh_df['coords'].apply(Polygon), crop=True, invert=False)\n",
    "    out_meta = dataset.meta.copy()\n",
    "\n",
    "out_meta.update({'height':masked.shape[1],'width':masked.shape[2],'transform':out_transform})\n",
    "\n",
    "with rasterio.open('masked.tif','w', **out_meta) as dest:\n",
    "    dest.write(masked)"
   ]
  },
  {
   "cell_type": "code",
   "execution_count": 31,
   "metadata": {},
   "outputs": [
    {
     "data": {
      "text/plain": [
       "{'driver': 'GTiff',\n",
       " 'dtype': 'uint8',\n",
       " 'nodata': None,\n",
       " 'width': 2918,\n",
       " 'height': 1506,\n",
       " 'count': 1,\n",
       " 'crs': CRS({'proj': 'aea', 'lat_1': 29.5, 'lat_2': 45.5, 'lat_0': 23, 'lon_0': -96, 'x_0': 0, 'y_0': 0, 'ellps': 'GRS80', 'towgs84': '0,0,0,0,0,0,0', 'units': 'm', 'no_defs': True}),\n",
       " 'transform': Affine(30.0, 0.0, -2134335.0,\n",
       "        0.0, -30.0, 1783365.0)}"
      ]
     },
     "execution_count": 31,
     "metadata": {},
     "output_type": "execute_result"
    }
   ],
   "source": [
    "# out_transform\n",
    "out_meta"
   ]
  },
  {
   "cell_type": "code",
   "execution_count": 32,
   "metadata": {},
   "outputs": [
    {
     "data": {
      "text/plain": [
       "array([[[0, 0, 0, ..., 0, 0, 0],\n",
       "        [0, 0, 0, ..., 0, 0, 0],\n",
       "        [0, 0, 0, ..., 0, 0, 0],\n",
       "        ...,\n",
       "        [0, 0, 0, ..., 0, 0, 0],\n",
       "        [0, 0, 0, ..., 0, 0, 0],\n",
       "        [0, 0, 0, ..., 0, 0, 0]]], dtype=uint8)"
      ]
     },
     "execution_count": 32,
     "metadata": {},
     "output_type": "execute_result"
    }
   ],
   "source": [
    "#since inverted = False, only pixels inside of parcels will have non-zero values. Most values would be 0.\n",
    "masked"
   ]
  },
  {
   "cell_type": "code",
   "execution_count": 33,
   "metadata": {},
   "outputs": [
    {
     "data": {
      "text/plain": [
       "(1, 1506, 2918)"
      ]
     },
     "execution_count": 33,
     "metadata": {},
     "output_type": "execute_result"
    }
   ],
   "source": [
    "#there are 1506*2918 = 439,4508 pixels in the overlaid raster\n",
    "masked.shape"
   ]
  },
  {
   "cell_type": "code",
   "execution_count": 34,
   "metadata": {},
   "outputs": [
    {
     "data": {
      "text/html": [
       "<div>\n",
       "<style scoped>\n",
       "    .dataframe tbody tr th:only-of-type {\n",
       "        vertical-align: middle;\n",
       "    }\n",
       "\n",
       "    .dataframe tbody tr th {\n",
       "        vertical-align: top;\n",
       "    }\n",
       "\n",
       "    .dataframe thead th {\n",
       "        text-align: right;\n",
       "    }\n",
       "</style>\n",
       "<table border=\"1\" class=\"dataframe\">\n",
       "  <thead>\n",
       "    <tr style=\"text-align: right;\">\n",
       "      <th></th>\n",
       "      <th>cdl_code</th>\n",
       "      <th>counts</th>\n",
       "    </tr>\n",
       "  </thead>\n",
       "  <tbody>\n",
       "    <tr>\n",
       "      <th>0</th>\n",
       "      <td>0</td>\n",
       "      <td>4270578</td>\n",
       "    </tr>\n",
       "    <tr>\n",
       "      <th>18</th>\n",
       "      <td>69</td>\n",
       "      <td>22968</td>\n",
       "    </tr>\n",
       "    <tr>\n",
       "      <th>21</th>\n",
       "      <td>75</td>\n",
       "      <td>19004</td>\n",
       "    </tr>\n",
       "    <tr>\n",
       "      <th>15</th>\n",
       "      <td>61</td>\n",
       "      <td>10637</td>\n",
       "    </tr>\n",
       "    <tr>\n",
       "      <th>22</th>\n",
       "      <td>76</td>\n",
       "      <td>7977</td>\n",
       "    </tr>\n",
       "  </tbody>\n",
       "</table>\n",
       "</div>"
      ],
      "text/plain": [
       "    cdl_code   counts\n",
       "0          0  4270578\n",
       "18        69    22968\n",
       "21        75    19004\n",
       "15        61    10637\n",
       "22        76     7977"
      ]
     },
     "execution_count": 34,
     "metadata": {},
     "output_type": "execute_result"
    }
   ],
   "source": [
    "# count number of pixels for land types in overlaid raster\n",
    "unique, counts = np.unique(masked, return_counts=True)\n",
    "occurance = pd.DataFrame(columns = ['cdl_code','counts'])\n",
    "occurance['cdl_code'] = unique\n",
    "occurance['counts'] = counts\n",
    "occurance = occurance.sort_values(by = 'counts', ascending = False)\n",
    "occurance.head(5)"
   ]
  },
  {
   "cell_type": "code",
   "execution_count": 35,
   "metadata": {},
   "outputs": [
    {
     "data": {
      "text/html": [
       "<div>\n",
       "<style scoped>\n",
       "    .dataframe tbody tr th:only-of-type {\n",
       "        vertical-align: middle;\n",
       "    }\n",
       "\n",
       "    .dataframe tbody tr th {\n",
       "        vertical-align: top;\n",
       "    }\n",
       "\n",
       "    .dataframe thead th {\n",
       "        text-align: right;\n",
       "    }\n",
       "</style>\n",
       "<table border=\"1\" class=\"dataframe\">\n",
       "  <thead>\n",
       "    <tr style=\"text-align: right;\">\n",
       "      <th></th>\n",
       "      <th>cdl_code</th>\n",
       "      <th>counts</th>\n",
       "      <th>land_cover</th>\n",
       "      <th>percent</th>\n",
       "    </tr>\n",
       "  </thead>\n",
       "  <tbody>\n",
       "    <tr>\n",
       "      <th>0</th>\n",
       "      <td>0</td>\n",
       "      <td>4270578</td>\n",
       "      <td>undefined</td>\n",
       "      <td>97.179889</td>\n",
       "    </tr>\n",
       "    <tr>\n",
       "      <th>1</th>\n",
       "      <td>69</td>\n",
       "      <td>22968</td>\n",
       "      <td>grapes</td>\n",
       "      <td>0.522652</td>\n",
       "    </tr>\n",
       "    <tr>\n",
       "      <th>2</th>\n",
       "      <td>75</td>\n",
       "      <td>19004</td>\n",
       "      <td>almonds</td>\n",
       "      <td>0.432449</td>\n",
       "    </tr>\n",
       "    <tr>\n",
       "      <th>3</th>\n",
       "      <td>61</td>\n",
       "      <td>10637</td>\n",
       "      <td>fallow_idle_cropland</td>\n",
       "      <td>0.242052</td>\n",
       "    </tr>\n",
       "    <tr>\n",
       "      <th>4</th>\n",
       "      <td>76</td>\n",
       "      <td>7977</td>\n",
       "      <td>walnuts</td>\n",
       "      <td>0.181522</td>\n",
       "    </tr>\n",
       "  </tbody>\n",
       "</table>\n",
       "</div>"
      ],
      "text/plain": [
       "   cdl_code   counts            land_cover    percent\n",
       "0         0  4270578             undefined  97.179889\n",
       "1        69    22968                grapes   0.522652\n",
       "2        75    19004               almonds   0.432449\n",
       "3        61    10637  fallow_idle_cropland   0.242052\n",
       "4        76     7977               walnuts   0.181522"
      ]
     },
     "execution_count": 35,
     "metadata": {},
     "output_type": "execute_result"
    }
   ],
   "source": [
    "# decipher cdl_code into land type names and calculate percentage of each land types in overlaid raster\n",
    "cdl_map = pd.read_csv('cdl_mapping.csv')\n",
    "land_type_count = occurance.merge(cdl_map, left_on='cdl_code', right_on='cdl_code', how = 'left')\n",
    "land_type_count['percent'] = 100*land_type_count['counts']/sum(land_type_count['counts'])\n",
    "land_type_count.head(5)"
   ]
  },
  {
   "cell_type": "code",
   "execution_count": null,
   "metadata": {},
   "outputs": [],
   "source": []
  }
 ],
 "metadata": {
  "kernelspec": {
   "display_name": "Python 3",
   "language": "python",
   "name": "python3"
  },
  "language_info": {
   "codemirror_mode": {
    "name": "ipython",
    "version": 3
   },
   "file_extension": ".py",
   "mimetype": "text/x-python",
   "name": "python",
   "nbconvert_exporter": "python",
   "pygments_lexer": "ipython3",
   "version": "3.6.5"
  }
 },
 "nbformat": 4,
 "nbformat_minor": 2
}
